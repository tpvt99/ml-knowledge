{
  "cells": [
    {
      "cell_type": "code",
      "execution_count": 1,
      "metadata": {
        "id": "uJQKPFFswVoL"
      },
      "outputs": [
        {
          "name": "stdout",
          "output_type": "stream",
          "text": [
            "Requirement already satisfied: einops in /home/phong/anaconda3/envs/vision/lib/python3.10/site-packages (0.6.1)\n"
          ]
        }
      ],
      "source": [
        "!pip install einops"
      ]
    },
    {
      "cell_type": "code",
      "execution_count": 6,
      "metadata": {
        "id": "je9SdhFXwguf"
      },
      "outputs": [],
      "source": [
        "import math\n",
        "from einops import rearrange, repeat, reduce\n",
        "import torch as t\n",
        "import torch\n",
        "import einops"
      ]
    },
    {
      "cell_type": "code",
      "execution_count": 3,
      "metadata": {
        "id": "2iDjkQWKwixK"
      },
      "outputs": [],
      "source": [
        "def assert_all_equal(actual: t.Tensor, expected: t.Tensor) -> None:\n",
        "    assert actual.shape == expected.shape, f\"Shape mismatch, got: {actual.shape}\"\n",
        "    assert (actual == expected).all(), f\"Value mismatch, got: {actual}\"\n",
        "    print(\"Passed!\")\n",
        "\n",
        "\n",
        "def assert_all_close(actual: t.Tensor, expected: t.Tensor, rtol=1e-05, atol=0.0001) -> None:\n",
        "    assert actual.shape == expected.shape, f\"Shape mismatch, got: {actual.shape}\"\n",
        "    assert t.allclose(actual, expected, rtol=rtol, atol=atol)\n",
        "    print(\"Passed!\")"
      ]
    },
    {
      "cell_type": "code",
      "execution_count": 11,
      "metadata": {
        "id": "VxFOEHPQwlC5"
      },
      "outputs": [
        {
          "name": "stdout",
          "output_type": "stream",
          "text": [
            "Passed!\n"
          ]
        }
      ],
      "source": [
        "def rearrange_1() -> t.Tensor:\n",
        "    \"\"\"Return the following tensor using only torch.arange and einops.rearrange:\n",
        "\n",
        "    [[3, 4],\n",
        "     [5, 6],\n",
        "     [7, 8]]\n",
        "    \"\"\"\n",
        "    temp = torch.arange(3,9)\n",
        "    return einops.rearrange(temp, '(b c) -> b c', b = 3, c = 2)\n",
        "\n",
        "\n",
        "\n",
        "expected = t.tensor([[3, 4], [5, 6], [7, 8]])\n",
        "assert_all_equal(rearrange_1(), expected)"
      ]
    },
    {
      "cell_type": "code",
      "execution_count": 12,
      "metadata": {
        "id": "zYHXtFuGwmbO"
      },
      "outputs": [
        {
          "name": "stdout",
          "output_type": "stream",
          "text": [
            "Passed!\n"
          ]
        }
      ],
      "source": [
        "def rearrange_2() -> t.Tensor:\n",
        "    \"\"\"Return the following tensor using only torch.arange and einops.rearrange:\n",
        "\n",
        "    [[1, 2, 3],\n",
        "     [4, 5, 6]]\n",
        "    \"\"\"\n",
        "    temp = torch.arange(1,7)\n",
        "    return einops.rearrange(temp, '(a b) -> a b', a = 2, b = 3)\n",
        "\n",
        "\n",
        "assert_all_equal(rearrange_2(), t.tensor([[1, 2, 3], [4, 5, 6]]))"
      ]
    },
    {
      "cell_type": "code",
      "execution_count": 15,
      "metadata": {
        "id": "FqNs9fxtwnhH"
      },
      "outputs": [
        {
          "name": "stdout",
          "output_type": "stream",
          "text": [
            "Passed!\n"
          ]
        }
      ],
      "source": [
        "def rearrange_3() -> t.Tensor:\n",
        "    \"\"\"Return the following tensor using only torch.arange and einops.rearrange:\n",
        "\n",
        "    [[[1], [2], [3], [4], [5], [6]]]\n",
        "    \"\"\"\n",
        "    temp = torch.arange(1,7)\n",
        "    return einops.rearrange(temp, '(a b c) -> a b c', a = 1, b=6, c=1)\n",
        "\n",
        "\n",
        "assert_all_equal(rearrange_3(), t.tensor([[[1], [2], [3], [4], [5], [6]]]))"
      ]
    },
    {
      "cell_type": "code",
      "execution_count": 21,
      "metadata": {
        "id": "_RrWwII2wojq"
      },
      "outputs": [
        {
          "name": "stdout",
          "output_type": "stream",
          "text": [
            "Passed!\n"
          ]
        }
      ],
      "source": [
        "def temperatures_average(temps: t.Tensor) -> t.Tensor:\n",
        "    \"\"\"Return the average temperature for each week.\n",
        "\n",
        "    temps: a 1D temperature containing temperatures for each day.\n",
        "    Length will be a multiple of 7 and the first 7 days are for the first week, second 7 days for the second week, etc.\n",
        "\n",
        "    You can do this with a single call to reduce.\n",
        "    \"\"\"\n",
        "    assert len(temps) % 7 == 0\n",
        "    return einops.reduce(temps, '(len days) -> len', 'mean', len=temps.size(0)//7, days=7)\n",
        "    \n",
        "\n",
        "\n",
        "temps = t.Tensor([71, 72, 70, 75, 71, 72, 70, 68, 65, 60, 68, 60, 55, 59, 75, 80, 85, 80, 78, 72, 83])\n",
        "expected = t.tensor([71.5714, 62.1429, 79.0])\n",
        "assert_all_close(temperatures_average(temps), expected)"
      ]
    },
    {
      "cell_type": "code",
      "execution_count": null,
      "metadata": {
        "id": "DYg5h9jwwp5I"
      },
      "outputs": [],
      "source": [
        "def temperatures_differences(temps: t.Tensor) -> t.Tensor:\n",
        "    \"\"\"For each day, subtract the average for the week the day belongs to.\n",
        "\n",
        "    temps: as above\n",
        "    \"\"\"\n",
        "    assert len(temps) % 7 == 0\n",
        "    pass\n",
        "\n",
        "\n",
        "expected = t.tensor(\n",
        "    [\n",
        "        -0.5714,\n",
        "        0.4286,\n",
        "        -1.5714,\n",
        "        3.4286,\n",
        "        -0.5714,\n",
        "        0.4286,\n",
        "        -1.5714,\n",
        "        5.8571,\n",
        "        2.8571,\n",
        "        -2.1429,\n",
        "        5.8571,\n",
        "        -2.1429,\n",
        "        -7.1429,\n",
        "        -3.1429,\n",
        "        -4.0,\n",
        "        1.0,\n",
        "        6.0,\n",
        "        1.0,\n",
        "        -1.0,\n",
        "        -7.0,\n",
        "        4.0,\n",
        "    ]\n",
        ")\n",
        "actual = temperatures_differences(temps)\n",
        "assert_all_close(actual, expected)"
      ]
    },
    {
      "cell_type": "code",
      "execution_count": null,
      "metadata": {
        "id": "PzLXucQ8wsdy"
      },
      "outputs": [],
      "source": [
        "def temperatures_normalized(temps: t.Tensor) -> t.Tensor:\n",
        "    \"\"\"For each day, subtract the weekly average and divide by the weekly standard deviation.\n",
        "\n",
        "    temps: as above\n",
        "\n",
        "    Pass torch.std to reduce.\n",
        "    \"\"\"\n",
        "    pass\n",
        "\n",
        "\n",
        "expected = t.tensor(\n",
        "    [\n",
        "        -0.3326,\n",
        "        0.2494,\n",
        "        -0.9146,\n",
        "        1.9954,\n",
        "        -0.3326,\n",
        "        0.2494,\n",
        "        -0.9146,\n",
        "        1.1839,\n",
        "        0.5775,\n",
        "        -0.4331,\n",
        "        1.1839,\n",
        "        -0.4331,\n",
        "        -1.4438,\n",
        "        -0.6353,\n",
        "        -0.8944,\n",
        "        0.2236,\n",
        "        1.3416,\n",
        "        0.2236,\n",
        "        -0.2236,\n",
        "        -1.5652,\n",
        "        0.8944,\n",
        "    ]\n",
        ")\n",
        "actual = temperatures_normalized(temps)\n",
        "assert_all_close(actual, expected)"
      ]
    },
    {
      "cell_type": "code",
      "execution_count": null,
      "metadata": {
        "id": "ZeK4nYN-wti-"
      },
      "outputs": [],
      "source": [
        "def batched_dot_product_nd(a: t.Tensor, b: t.Tensor) -> t.Tensor:\n",
        "    \"\"\"Return the batched dot product of a and b, where the first dimension is the batch dimension.\n",
        "\n",
        "    That is, out[i] = dot(a[i], b[i]) for i in 0..len(a).\n",
        "    a and b can have any number of dimensions greater than 1.\n",
        "\n",
        "    a: shape (b, i_1, i_2, ..., i_n)\n",
        "    b: shape (b, i_1, i_2, ..., i_n)\n",
        "\n",
        "    Returns: shape (b, )\n",
        "\n",
        "    Use torch.einsum. You can use the ellipsis \"...\" in the einsum formula to represent an arbitrary number of dimensions.\n",
        "    \"\"\"\n",
        "    assert a.shape == b.shape\n",
        "    pass\n",
        "\n",
        "\n",
        "actual = batched_dot_product_nd(t.tensor([[1, 1, 0], [0, 0, 1]]), t.tensor([[1, 1, 0], [1, 1, 0]]))\n",
        "expected = t.tensor([2, 0])\n",
        "assert_all_equal(actual, expected)\n",
        "actual2 = batched_dot_product_nd(t.arange(12).reshape((3, 2, 2)), t.arange(12).reshape((3, 2, 2)))\n",
        "expected2 = t.tensor([14, 126, 366])\n",
        "assert_all_equal(actual2, expected2)"
      ]
    },
    {
      "cell_type": "code",
      "execution_count": null,
      "metadata": {
        "id": "Sfa8DRwNwut7"
      },
      "outputs": [],
      "source": [
        "def identity_matrix(n: int) -> t.Tensor:\n",
        "    \"\"\"Return the identity matrix of size nxn.\n",
        "\n",
        "    Don't use torch.eye or similar.\n",
        "\n",
        "    Hint: you can do it with arange, rearrange, and ==.\n",
        "    Bonus: find a different way to do it.\n",
        "    \"\"\"\n",
        "    assert n >= 0\n",
        "    pass\n",
        "\n",
        "\n",
        "assert_all_equal(identity_matrix(3), t.Tensor([[1, 0, 0], [0, 1, 0], [0, 0, 1]]))\n",
        "assert_all_equal(identity_matrix(0), t.zeros((0, 0)))"
      ]
    },
    {
      "cell_type": "code",
      "execution_count": null,
      "metadata": {
        "id": "g6TWam6EwvxF"
      },
      "outputs": [],
      "source": [
        "def sample_distribution(probs: t.Tensor, n: int) -> t.Tensor:\n",
        "    \"\"\"Return n random samples from probs, where probs is a normalized probability distribution.\n",
        "\n",
        "    probs: shape (k,) where probs[i] is the probability of event i occurring.\n",
        "    n: number of random samples\n",
        "\n",
        "    Return: shape (n,) where out[i] is an integer indicating which event was sampled.\n",
        "\n",
        "    Use torch.rand and torch.cumsum to do this without any explicit loops.\n",
        "\n",
        "    Note: if you think your solution is correct but the test is failing, try increasing the value of n.\n",
        "    \"\"\"\n",
        "    assert abs(probs.sum() - 1.0) < 0.001\n",
        "    assert (probs >= 0).all()\n",
        "    pass\n",
        "\n",
        "\n",
        "n = 10000000\n",
        "probs = t.tensor([0.05, 0.1, 0.1, 0.2, 0.15, 0.4])\n",
        "freqs = t.bincount(sample_distribution(probs, n)) / n\n",
        "assert_all_close(freqs, probs, rtol=0.001, atol=0.001)"
      ]
    },
    {
      "cell_type": "code",
      "execution_count": null,
      "metadata": {
        "id": "cx_aEB0XwyPL"
      },
      "outputs": [],
      "source": [
        "def classifier_accuracy(scores: t.Tensor, true_classes: t.Tensor) -> t.Tensor:\n",
        "    \"\"\"Return the fraction of inputs for which the maximum score corresponds to the true class for that input.\n",
        "\n",
        "    scores: shape (batch, n_classes). A higher score[b, i] means that the classifier thinks class i is more likely.\n",
        "    true_classes: shape (batch, ). true_classes[b] is an integer from [0...n_classes).\n",
        "\n",
        "    Use torch.argmax.\n",
        "    \"\"\"\n",
        "    assert true_classes.max() < scores.shape[1]\n",
        "    pass\n",
        "\n",
        "\n",
        "scores = t.tensor([[0.75, 0.5, 0.25], [0.1, 0.5, 0.4], [0.1, 0.7, 0.2]])\n",
        "true_classes = t.tensor([0, 1, 0])\n",
        "expected = 2.0 / 3.0\n",
        "assert classifier_accuracy(scores, true_classes) == expected"
      ]
    },
    {
      "cell_type": "code",
      "execution_count": null,
      "metadata": {
        "id": "E-yGXY0iwzQD"
      },
      "outputs": [],
      "source": [
        "def total_price_indexing(prices: t.Tensor, items: t.Tensor) -> float:\n",
        "    \"\"\"Given prices for each kind of item and a tensor of items purchased, return the total price.\n",
        "\n",
        "    prices: shape (k, ). prices[i] is the price of the ith item.\n",
        "    items: shape (n, ). A 1D tensor where each value is an item index from [0..k).\n",
        "\n",
        "    Use integer array indexing. The below document describes this for NumPy but it's the same in PyTorch:\n",
        "\n",
        "    https://numpy.org/doc/stable/user/basics.indexing.html#integer-array-indexing\n",
        "    \"\"\"\n",
        "    assert items.max() < prices.shape[0]\n",
        "    pass\n",
        "\n",
        "\n",
        "prices = t.tensor([0.5, 1, 1.5, 2, 2.5])\n",
        "items = t.tensor([0, 0, 1, 1, 4, 3, 2])\n",
        "assert total_price_indexing(prices, items) == 9.0"
      ]
    },
    {
      "cell_type": "code",
      "execution_count": null,
      "metadata": {
        "id": "GVXWmWaiw0Jo"
      },
      "outputs": [],
      "source": [
        "def gather_2d(matrix: t.Tensor, indexes: t.Tensor) -> t.Tensor:\n",
        "    \"\"\"Perform a gather operation along the second dimension.\n",
        "\n",
        "    matrix: shape (m, n)\n",
        "    indexes: shape (m, k)\n",
        "\n",
        "    Return: shape (m, k). out[i][j] = matrix[i][indexes[i][j]]\n",
        "\n",
        "    For this problem, the test already passes and it's your job to write at least three asserts relating the arguments and the output. This is a tricky function and worth spending some time to wrap your head around its behavior.\n",
        "\n",
        "    See: https://pytorch.org/docs/stable/generated/torch.gather.html?highlight=gather#torch.gather\n",
        "    \"\"\"\n",
        "    \"TODO: YOUR CODE HERE\"\n",
        "    out = matrix.gather(1, indexes)\n",
        "    \"TODO: YOUR CODE HERE\"\n",
        "    return out\n",
        "\n",
        "\n",
        "matrix = t.arange(15).view(3, 5)\n",
        "indexes = t.tensor([[4], [3], [2]])\n",
        "expected = t.tensor([[4], [8], [12]])\n",
        "assert_all_equal(gather_2d(matrix, indexes), expected)\n",
        "indexes2 = t.tensor([[2, 4], [1, 3], [0, 2]])\n",
        "expected2 = t.tensor([[2, 4], [6, 8], [10, 12]])\n",
        "assert_all_equal(gather_2d(matrix, indexes), expected)"
      ]
    },
    {
      "cell_type": "code",
      "execution_count": null,
      "metadata": {
        "id": "6eV8hR3Ww1H_"
      },
      "outputs": [],
      "source": [
        "def total_price_gather(prices: t.Tensor, items: t.Tensor) -> float:\n",
        "    \"\"\"Compute the same as total_price_indexing, but use torch.gather.\"\"\"\n",
        "    assert items.max() < prices.shape[0]\n",
        "    pass\n",
        "\n",
        "\n",
        "prices = t.tensor([0.5, 1, 1.5, 2, 2.5])\n",
        "items = t.tensor([0, 0, 1, 1, 4, 3, 2])\n",
        "assert total_price_gather(prices, items) == 9.0"
      ]
    },
    {
      "cell_type": "code",
      "execution_count": null,
      "metadata": {
        "id": "aBpkJX4Bw2SE"
      },
      "outputs": [],
      "source": [
        "def integer_array_indexing(matrix: t.Tensor, coords: t.Tensor) -> t.Tensor:\n",
        "    \"\"\"Return the values at each coordinate using integer array indexing.\n",
        "\n",
        "    For details on integer array indexing, see:\n",
        "    https://numpy.org/doc/stable/user/basics.indexing.html#integer-array-indexing\n",
        "\n",
        "    matrix: shape (d_0, d_1, ..., d_n)\n",
        "    coords: shape (batch, n)\n",
        "\n",
        "    Return: (batch, )\n",
        "    \"\"\"\n",
        "    pass\n",
        "\n",
        "\n",
        "mat_2d = t.arange(15).view(3, 5)\n",
        "coords_2d = t.tensor([[0, 1], [0, 4], [1, 4]])\n",
        "actual = integer_array_indexing(mat_2d, coords_2d)\n",
        "assert_all_equal(actual, t.tensor([1, 4, 9]))\n",
        "mat_3d = t.arange(2 * 3 * 4).view((2, 3, 4))\n",
        "coords_3d = t.tensor([[0, 0, 0], [0, 1, 1], [0, 2, 2], [1, 0, 3], [1, 2, 0]])\n",
        "actual = integer_array_indexing(mat_3d, coords_3d)\n",
        "assert_all_equal(actual, t.tensor([0, 5, 10, 15, 20]))"
      ]
    },
    {
      "cell_type": "code",
      "execution_count": null,
      "metadata": {
        "id": "YE4CA9wyw3hU"
      },
      "outputs": [],
      "source": [
        "def batched_logsumexp(matrix: t.Tensor) -> t.Tensor:\n",
        "    \"\"\"For each row of the matrix, compute log(sum(exp(row))) in a numerically stable way.\n",
        "\n",
        "    matrix: shape (batch, n)\n",
        "\n",
        "    Return: (batch, ). For each i, out[i] = log(sum(exp(matrix[i]))).\n",
        "\n",
        "    Do this without using PyTorch's logsumexp function.\n",
        "\n",
        "    A couple useful blogs about this function:\n",
        "    - https://leimao.github.io/blog/LogSumExp/\n",
        "    - https://gregorygundersen.com/blog/2020/02/09/log-sum-exp/\n",
        "    \"\"\"\n",
        "    pass\n",
        "\n",
        "\n",
        "matrix = t.tensor([[-1000, -1000, -1000, -1000], [1000, 1000, 1000, 1000]])\n",
        "expected = t.tensor([-1000 + math.log(4), 1000 + math.log(4)])\n",
        "actual = batched_logsumexp(matrix)\n",
        "assert_all_close(actual, expected)\n",
        "matrix2 = t.randn((10, 20))\n",
        "expected2 = t.logsumexp(matrix2, dim=-1)\n",
        "actual2 = batched_logsumexp(matrix2)\n",
        "assert_all_close(actual2, expected2)"
      ]
    },
    {
      "cell_type": "code",
      "execution_count": null,
      "metadata": {
        "id": "tUyEdo1bw4wf"
      },
      "outputs": [],
      "source": [
        "def batched_softmax(matrix: t.Tensor) -> t.Tensor:\n",
        "    \"\"\"For each row of the matrix, compute softmax(row).\n",
        "\n",
        "    Do this without using PyTorch's softmax function.\n",
        "    Instead, use the definition of softmax: https://en.wikipedia.org/wiki/Softmax_function\n",
        "\n",
        "    matrix: shape (batch, n)\n",
        "\n",
        "    Return: (batch, n). For each i, out[i] should sum to 1.\n",
        "    \"\"\"\n",
        "    pass\n",
        "\n",
        "\n",
        "matrix = t.arange(1, 6).view((1, 5)).float().log()\n",
        "expected = t.arange(1, 6).view((1, 5)) / 15.0\n",
        "actual = batched_softmax(matrix)\n",
        "assert_all_close(actual, expected)\n",
        "for i in [0.12, 3.4, -5, 6.7]:\n",
        "    assert_all_close(actual, batched_softmax(matrix + i))\n",
        "matrix2 = t.rand((10, 20))\n",
        "actual2 = batched_softmax(matrix2)\n",
        "assert actual2.min() >= 0.0\n",
        "assert actual2.max() <= 1.0\n",
        "assert_all_equal(actual2.argsort(), matrix2.argsort())\n",
        "assert_all_close(actual2.sum(dim=-1), t.ones(matrix2.shape[:-1]))"
      ]
    },
    {
      "cell_type": "code",
      "execution_count": null,
      "metadata": {
        "id": "49KrSxO3w5rh"
      },
      "outputs": [],
      "source": [
        "def batched_logsoftmax(matrix: t.Tensor) -> t.Tensor:\n",
        "    \"\"\"Compute log(softmax(row)) for each row of the matrix.\n",
        "\n",
        "    matrix: shape (batch, n)\n",
        "\n",
        "    Return: (batch, n). For each i, out[i] should sum to 1.\n",
        "\n",
        "    Do this without using PyTorch's logsoftmax function.\n",
        "    For each row, subtract the maximum first to avoid overflow if the row contains large values.\n",
        "    \"\"\"\n",
        "    pass\n",
        "\n",
        "\n",
        "matrix = t.arange(1, 6).view((1, 5)).float()\n",
        "start = 1000\n",
        "matrix2 = t.arange(start + 1, start + 6).view((1, 5)).float()\n",
        "actual = batched_logsoftmax(matrix2)\n",
        "expected = t.tensor([[-4.4519, -3.4519, -2.4519, -1.4519, -0.4519]])\n",
        "assert_all_close(actual, expected)"
      ]
    },
    {
      "cell_type": "code",
      "execution_count": null,
      "metadata": {
        "id": "FWCPY_crw6qz"
      },
      "outputs": [],
      "source": [
        "def batched_cross_entropy_loss(logits: t.Tensor, true_labels: t.Tensor) -> t.Tensor:\n",
        "    \"\"\"Compute the cross entropy loss for each example in the batch.\n",
        "\n",
        "    logits: shape (batch, classes). logits[i][j] is the unnormalized prediction for example i and class j.\n",
        "    true_labels: shape (batch, ). true_labels[i] is an integer index representing the true class for example i.\n",
        "\n",
        "    Return: shape (batch, ). out[i] is the loss for example i.\n",
        "\n",
        "    Hint: convert the logits to log-probabilities using your batched_logsoftmax from above.\n",
        "    Then the loss for an example is just the negative of the log-probability that the model assigned to the true class. Use torch.gather to perform the indexing.\n",
        "    \"\"\"\n",
        "    pass\n",
        "\n",
        "\n",
        "logits = t.tensor([[float(\"-inf\"), float(\"-inf\"), 0], [1 / 3, 1 / 3, 1 / 3], [float(\"-inf\"), 0, 0]])\n",
        "true_labels = t.tensor([2, 0, 0])\n",
        "expected = t.tensor([0.0, math.log(3), float(\"inf\")])\n",
        "actual = batched_cross_entropy_loss(logits, true_labels)\n",
        "assert_all_close(actual, expected)"
      ]
    },
    {
      "cell_type": "code",
      "execution_count": null,
      "metadata": {
        "id": "mYvw6Xejw7pI"
      },
      "outputs": [],
      "source": [
        "def collect_rows(matrix: t.Tensor, row_indexes: t.Tensor) -> t.Tensor:\n",
        "    \"\"\"Return a 2D matrix whose rows are taken from the input matrix in order according to row_indexes.\n",
        "\n",
        "    matrix: shape (m, n)\n",
        "    row_indexes: shape (k,). Each value is an integer in [0..m).\n",
        "\n",
        "    Return: shape (k, n). out[i] is matrix[row_indexes[i]].\n",
        "    \"\"\"\n",
        "    assert row_indexes.max() < matrix.shape[0]\n",
        "    pass\n",
        "\n",
        "\n",
        "matrix = t.arange(15).view((5, 3))\n",
        "row_indexes = t.tensor([0, 2, 1, 0])\n",
        "actual = collect_rows(matrix, row_indexes)\n",
        "expected = t.tensor([[0, 1, 2], [6, 7, 8], [3, 4, 5], [0, 1, 2]])\n",
        "assert_all_equal(actual, expected)"
      ]
    },
    {
      "cell_type": "code",
      "execution_count": null,
      "metadata": {
        "id": "KB2ezZ8Rw83f"
      },
      "outputs": [],
      "source": [
        "def collect_columns(matrix: t.Tensor, column_indexes: t.Tensor) -> t.Tensor:\n",
        "    \"\"\"Return a 2D matrix whose columns are taken from the input matrix in order according to column_indexes.\n",
        "\n",
        "    matrix: shape (m, n)\n",
        "    column_indexes: shape (k,). Each value is an integer in [0..n).\n",
        "\n",
        "    Return: shape (m, k). out[:, i] is matrix[:, column_indexes[i]].\n",
        "    \"\"\"\n",
        "    assert column_indexes.max() < matrix.shape[1]\n",
        "    pass\n",
        "\n",
        "\n",
        "matrix = t.arange(15).view((5, 3))\n",
        "column_indexes = t.tensor([0, 2, 1, 0])\n",
        "actual = collect_columns(matrix, column_indexes)\n",
        "expected = t.tensor([[0, 2, 1, 0], [3, 5, 4, 3], [6, 8, 7, 6], [9, 11, 10, 9], [12, 14, 13, 12]])\n",
        "assert_all_equal(actual, expected)"
      ]
    }
  ],
  "metadata": {
    "colab": {
      "provenance": []
    },
    "kernelspec": {
      "display_name": "Python 3",
      "name": "python3"
    },
    "language_info": {
      "codemirror_mode": {
        "name": "ipython",
        "version": 3
      },
      "file_extension": ".py",
      "mimetype": "text/x-python",
      "name": "python",
      "nbconvert_exporter": "python",
      "pygments_lexer": "ipython3",
      "version": "3.10.0"
    }
  },
  "nbformat": 4,
  "nbformat_minor": 0
}
