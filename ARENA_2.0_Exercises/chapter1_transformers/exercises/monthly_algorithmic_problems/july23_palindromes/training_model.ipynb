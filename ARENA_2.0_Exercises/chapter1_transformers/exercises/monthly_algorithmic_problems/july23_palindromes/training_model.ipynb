{
 "cells": [
  {
   "attachments": {},
   "cell_type": "markdown",
   "metadata": {},
   "source": [
    "## Setup"
   ]
  },
  {
   "cell_type": "code",
   "execution_count": null,
   "metadata": {},
   "outputs": [],
   "source": [
    "import os; os.environ[\"ACCELERATE_DISABLE_RICH\"] = \"1\"\n",
    "import sys\n",
    "from functools import partial\n",
    "import json\n",
    "from typing import List, Tuple, Union, Optional, Callable, Dict\n",
    "import torch as t\n",
    "from torch import Tensor\n",
    "from sklearn.linear_model import LinearRegression\n",
    "import numpy as np\n",
    "from plotly.subplots import make_subplots\n",
    "import plotly.express as px\n",
    "import plotly.graph_objects as go\n",
    "import einops\n",
    "from tqdm import tqdm\n",
    "from jaxtyping import Float, Int, Bool\n",
    "from pathlib import Path\n",
    "import pandas as pd\n",
    "import circuitsvis as cv\n",
    "import webbrowser\n",
    "from IPython.display import display\n",
    "from transformer_lens import utils, ActivationCache, HookedTransformer, HookedTransformerConfig\n",
    "from transformer_lens.hook_points import HookPoint\n",
    "from transformer_lens.components import LayerNorm\n",
    "\n",
    "# Make sure exercises are in the path\n",
    "chapter = r\"chapter1_transformers\"\n",
    "exercises_dir = Path(f\"{os.getcwd().split(chapter)[0]}/{chapter}/exercises\").resolve()\n",
    "section_dir = exercises_dir / \"monthly_algorithmic_problems\" / \"june23_palindromes\"\n",
    "if str(exercises_dir) not in sys.path: sys.path.append(str(exercises_dir))\n",
    "\n",
    "from monthly_algorithmic_problems.july23_palindromes.model import create_model\n",
    "from monthly_algorithmic_problems.july23_palindromes.training import train, TrainArgs\n",
    "\n",
    "device = t.device(\"cuda\" if t.cuda.is_available() else \"cpu\")\n",
    "\n",
    "MAIN = __name__ == \"__main__\""
   ]
  },
  {
   "attachments": {},
   "cell_type": "markdown",
   "metadata": {},
   "source": [
    "## Transformer"
   ]
  },
  {
   "cell_type": "code",
   "execution_count": 4,
   "metadata": {},
   "outputs": [
    {
     "name": "stderr",
     "output_type": "stream",
     "text": [
      "Failed to detect the name of this notebook, you can set it manually with the WANDB_NOTEBOOK_NAME environment variable to enable code saving.\n",
      "\u001b[34m\u001b[1mwandb\u001b[0m: Currently logged in as: \u001b[33mcallum-mcdougall\u001b[0m. Use \u001b[1m`wandb login --relogin`\u001b[0m to force relogin\n"
     ]
    },
    {
     "data": {
      "text/html": [
       "wandb version 0.15.5 is available!  To upgrade, please run:\n",
       " $ pip install wandb --upgrade"
      ],
      "text/plain": [
       "<IPython.core.display.HTML object>"
      ]
     },
     "metadata": {},
     "output_type": "display_data"
    },
    {
     "data": {
      "text/html": [
       "Tracking run with wandb version 0.13.10"
      ],
      "text/plain": [
       "<IPython.core.display.HTML object>"
      ]
     },
     "metadata": {},
     "output_type": "display_data"
    },
    {
     "data": {
      "text/html": [
       "Run data is saved locally in <code>/home/ubuntu/Transformerlens/transformer_lens/rs/callum/toy_problems_sequence/palindromes/wandb/run-20230714_203933-b6hg5fjb</code>"
      ],
      "text/plain": [
       "<IPython.core.display.HTML object>"
      ]
     },
     "metadata": {},
     "output_type": "display_data"
    },
    {
     "data": {
      "text/html": [
       "Syncing run <strong><a href='https://wandb.ai/callum-mcdougall/palindromes/runs/b6hg5fjb' target=\"_blank\">curious-butterfly-5</a></strong> to <a href='https://wandb.ai/callum-mcdougall/palindromes' target=\"_blank\">Weights & Biases</a> (<a href='https://wandb.me/run' target=\"_blank\">docs</a>)<br/>"
      ],
      "text/plain": [
       "<IPython.core.display.HTML object>"
      ]
     },
     "metadata": {},
     "output_type": "display_data"
    },
    {
     "data": {
      "text/html": [
       " View project at <a href='https://wandb.ai/callum-mcdougall/palindromes' target=\"_blank\">https://wandb.ai/callum-mcdougall/palindromes</a>"
      ],
      "text/plain": [
       "<IPython.core.display.HTML object>"
      ]
     },
     "metadata": {},
     "output_type": "display_data"
    },
    {
     "data": {
      "text/html": [
       " View run at <a href='https://wandb.ai/callum-mcdougall/palindromes/runs/b6hg5fjb' target=\"_blank\">https://wandb.ai/callum-mcdougall/palindromes/runs/b6hg5fjb</a>"
      ],
      "text/plain": [
       "<IPython.core.display.HTML object>"
      ]
     },
     "metadata": {},
     "output_type": "display_data"
    },
    {
     "name": "stderr",
     "output_type": "stream",
     "text": [
      "Epoch 00, Train loss = 0.6138, Accuracy: 0.646: : 196it [00:04, 40.31it/s]      \n",
      "Epoch 01, Train loss = 0.5198, Accuracy: 0.796: : 196it [00:04, 47.19it/s]\n",
      "Epoch 02, Train loss = 0.4005, Accuracy: 0.856: : 196it [00:03, 49.47it/s]      \n",
      "Epoch 03, Train loss = 0.2564, Accuracy: 0.917: : 196it [00:04, 45.90it/s]\n",
      "Epoch 04, Train loss = 0.0986, Accuracy: 0.976: : 196it [00:03, 49.55it/s]      \n",
      "Epoch 05, Train loss = 0.1330, Accuracy: 0.982: : 196it [00:04, 45.07it/s]\n",
      "Epoch 06, Train loss = 0.0737, Accuracy: 0.992: : 196it [00:03, 49.58it/s]      \n",
      "Epoch 07, Train loss = 0.0034, Accuracy: 0.996: : 196it [00:04, 46.92it/s]\n",
      "Epoch 08, Train loss = 0.0026, Accuracy: 0.997: : 196it [00:04, 47.39it/s]      \n",
      "Epoch 09, Train loss = 0.0018, Accuracy: 0.997: : 196it [00:04, 47.73it/s]\n",
      "Epoch 10, Train loss = 0.0100, Accuracy: 0.998: : 196it [00:03, 50.52it/s]      \n",
      "Epoch 11, Train loss = 0.0047, Accuracy: 0.998: : 196it [00:04, 45.40it/s]\n",
      "Epoch 12, Train loss = 0.0031, Accuracy: 0.997: : 196it [00:03, 50.00it/s]      \n",
      "Epoch 13, Train loss = 0.0036, Accuracy: 0.997: : 196it [00:04, 47.09it/s]\n",
      "Epoch 14, Train loss = 0.0022, Accuracy: 0.997: : 196it [00:04, 50.72it/s]      "
     ]
    },
    {
     "data": {
      "text/html": [
       "Waiting for W&B process to finish... <strong style=\"color:green\">(success).</strong>"
      ],
      "text/plain": [
       "<IPython.core.display.HTML object>"
      ]
     },
     "metadata": {},
     "output_type": "display_data"
    },
    {
     "data": {
      "application/vnd.jupyter.widget-view+json": {
       "model_id": "87c67fde359449ce8e0de97de543c3f4",
       "version_major": 2,
       "version_minor": 0
      },
      "text/plain": [
       "VBox(children=(Label(value='0.001 MB of 0.001 MB uploaded (0.000 MB deduped)\\r'), FloatProgress(value=1.0, max…"
      ]
     },
     "metadata": {},
     "output_type": "display_data"
    },
    {
     "data": {
      "text/html": [
       "<style>\n",
       "    table.wandb td:nth-child(1) { padding: 0 10px; text-align: left ; width: auto;} td:nth-child(2) {text-align: left ; width: 100%}\n",
       "    .wandb-row { display: flex; flex-direction: row; flex-wrap: wrap; justify-content: flex-start; width: 100% }\n",
       "    .wandb-col { display: flex; flex-direction: column; flex-basis: 100%; flex: 1; padding: 10px; }\n",
       "    </style>\n",
       "<div class=\"wandb-row\"><div class=\"wandb-col\"><h3>Run history:</h3><br/><table class=\"wandb\"><tr><td>test_accuracy</td><td>▁▄▅▆███████████</td></tr><tr><td>training_loss</td><td>███▇▆▆▅▅▄▄▃▃▂▂▂▂▂▂▁▁▁▁▁▁▁▁▁▁▁▁▁▁▁▁▁▁▁▁▁▁</td></tr></table><br/></div><div class=\"wandb-col\"><h3>Run summary:</h3><br/><table class=\"wandb\"><tr><td>test_accuracy</td><td>0.9972</td></tr><tr><td>training_loss</td><td>0.0022</td></tr></table><br/></div></div>"
      ],
      "text/plain": [
       "<IPython.core.display.HTML object>"
      ]
     },
     "metadata": {},
     "output_type": "display_data"
    },
    {
     "data": {
      "text/html": [
       " View run <strong style=\"color:#cdcd00\">curious-butterfly-5</strong> at: <a href='https://wandb.ai/callum-mcdougall/palindromes/runs/b6hg5fjb' target=\"_blank\">https://wandb.ai/callum-mcdougall/palindromes/runs/b6hg5fjb</a><br/>Synced 5 W&B file(s), 0 media file(s), 0 artifact file(s) and 0 other file(s)"
      ],
      "text/plain": [
       "<IPython.core.display.HTML object>"
      ]
     },
     "metadata": {},
     "output_type": "display_data"
    },
    {
     "data": {
      "text/html": [
       "Find logs at: <code>./wandb/run-20230714_203933-b6hg5fjb/logs</code>"
      ],
      "text/plain": [
       "<IPython.core.display.HTML object>"
      ]
     },
     "metadata": {},
     "output_type": "display_data"
    },
    {
     "name": "stderr",
     "output_type": "stream",
     "text": [
      "Epoch 14, Train loss = 0.0022, Accuracy: 0.997: : 196it [00:08, 22.34it/s]\n"
     ]
    }
   ],
   "source": [
    "# Took about 10 minutes to train\n",
    "\n",
    "args = TrainArgs(\n",
    "    half_length=10,\n",
    "    max_value=30,\n",
    "    trainset_size=100_000,\n",
    "    valset_size=5_000,\n",
    "    epochs=15,\n",
    "    batch_size=512,\n",
    "    lr=1e-3,\n",
    "    weight_decay=0.0,\n",
    "    seed=42,\n",
    "    d_model=28,\n",
    "    d_head=14,\n",
    "    n_heads=2,\n",
    "    d_mlp=None,\n",
    "    normalization_type=\"LN\",\n",
    "    use_wandb=True,\n",
    "    device=device,\n",
    ")\n",
    "model = train(args)"
   ]
  },
  {
   "cell_type": "code",
   "execution_count": null,
   "metadata": {},
   "outputs": [],
   "source": [
    "# Took about 10 minutes to train\n",
    "\n",
    "args = TrainArgs(\n",
    "    half_length=10,\n",
    "    max_value=30,\n",
    "    trainset_size=100_000,\n",
    "    valset_size=5_000,\n",
    "    epochs=15,\n",
    "    batch_size=512,\n",
    "    lr=1e-3,\n",
    "    weight_decay=0.0,\n",
    "    seed=42,\n",
    "    d_model=28,\n",
    "    d_head=14,\n",
    "    n_heads=2,\n",
    "    d_mlp=None,\n",
    "    normalization_type=\"LN\",\n",
    "    use_wandb=True,\n",
    "    device=device,\n",
    ")\n",
    "model = train(args)"
   ]
  },
  {
   "cell_type": "code",
   "execution_count": 5,
   "metadata": {},
   "outputs": [
    {
     "data": {
      "text/plain": [
       "<All keys matched successfully>"
      ]
     },
     "execution_count": 5,
     "metadata": {},
     "output_type": "execute_result"
    }
   ],
   "source": [
    "# Save the model\n",
    "filename = section_dir / \"palindrome_classifier.pt\"\n",
    "t.save(model.state_dict(), filename)\n",
    "\n",
    "# Check we can load in the model\n",
    "model_loaded = create_model(half_length=10, max_value=30, seed=42, d_model=28, d_head=14, n_heads=2, normalization_type=\"LN\", d_mlp=None)\n",
    "model_loaded.load_state_dict(t.load(filename))"
   ]
  }
 ],
 "metadata": {
  "kernelspec": {
   "display_name": "tl_intro_test",
   "language": "python",
   "name": "python3"
  },
  "language_info": {
   "codemirror_mode": {
    "name": "ipython",
    "version": 3
   },
   "file_extension": ".py",
   "mimetype": "text/x-python",
   "name": "python",
   "nbconvert_exporter": "python",
   "pygments_lexer": "ipython3",
   "version": "3.10.9"
  },
  "orig_nbformat": 4
 },
 "nbformat": 4,
 "nbformat_minor": 2
}
