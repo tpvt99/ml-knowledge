{
 "cells": [
  {
   "attachments": {},
   "cell_type": "markdown",
   "metadata": {},
   "source": [
    "##### Exercises are got from\n",
    "https://towardsdatascience.com/advanced-numpy-master-stride-tricks-with-25-illustrated-exercises-923a9393ab20#4838"
   ]
  },
  {
   "cell_type": "code",
   "execution_count": 2,
   "metadata": {},
   "outputs": [],
   "source": [
    "import numpy as np\n"
   ]
  },
  {
   "cell_type": "code",
   "execution_count": 6,
   "metadata": {},
   "outputs": [
    {
     "name": "stdout",
     "output_type": "stream",
     "text": [
      "8\n",
      "(8,)\n"
     ]
    }
   ],
   "source": [
    "a = np.random.randn(10)\n",
    "print(a.itemsize) # Each item is 8 bytes\n",
    "print(a.strides) # To jump to next item, we need 8 bytes"
   ]
  },
  {
   "cell_type": "code",
   "execution_count": 7,
   "metadata": {},
   "outputs": [
    {
     "name": "stdout",
     "output_type": "stream",
     "text": [
      "1\n",
      "(5, 1)\n"
     ]
    },
    {
     "data": {
      "text/plain": [
       "array([1, 2, 3], dtype=int8)"
      ]
     },
     "execution_count": 7,
     "metadata": {},
     "output_type": "execute_result"
    }
   ],
   "source": [
    "# Exericse 1. Slice first 3 elements\n",
    "a = np.arange(1,26).reshape(5,5).astype(np.int8)\n",
    "print(a.itemsize)\n",
    "print(a.strides)\n",
    "np.lib.stride_tricks.as_strided(a, shape=(3,), strides=(1,))\n"
   ]
  },
  {
   "cell_type": "code",
   "execution_count": 8,
   "metadata": {},
   "outputs": [
    {
     "name": "stdout",
     "output_type": "stream",
     "text": [
      "1\n",
      "(5, 1)\n"
     ]
    },
    {
     "data": {
      "text/plain": [
       "array([1, 2, 3, 4, 5, 6, 7, 8], dtype=int8)"
      ]
     },
     "execution_count": 8,
     "metadata": {},
     "output_type": "execute_result"
    }
   ],
   "source": [
    "# Exericse 2. Slice first 8 elements\n",
    "a = np.arange(1,26).reshape(5,5).astype(np.int8)\n",
    "print(a.itemsize)\n",
    "print(a.strides)\n",
    "np.lib.stride_tricks.as_strided(a, shape=(8,), strides=(1,))\n"
   ]
  },
  {
   "cell_type": "code",
   "execution_count": 9,
   "metadata": {},
   "outputs": [
    {
     "name": "stdout",
     "output_type": "stream",
     "text": [
      "2\n",
      "(10, 2)\n"
     ]
    },
    {
     "data": {
      "text/plain": [
       "array([ 1,  2,  3,  4,  5,  6,  7,  8,  9, 10, 11, 12, 13, 14, 15, 16, 17,\n",
       "       18, 19, 20, 21, 22, 23, 24, 25], dtype=int16)"
      ]
     },
     "execution_count": 9,
     "metadata": {},
     "output_type": "execute_result"
    }
   ],
   "source": [
    "# Exericse 3. Flatten\n",
    "a = np.arange(1,26).reshape(5,5).astype(np.int16)\n",
    "print(a.itemsize)\n",
    "print(a.strides)\n",
    "np.lib.stride_tricks.as_strided(a, shape=(25,), strides=(2,))\n"
   ]
  },
  {
   "cell_type": "code",
   "execution_count": 10,
   "metadata": {},
   "outputs": [
    {
     "name": "stdout",
     "output_type": "stream",
     "text": [
      "1\n",
      "(5, 1)\n"
     ]
    },
    {
     "data": {
      "text/plain": [
       "array([1, 3, 5], dtype=int8)"
      ]
     },
     "execution_count": 10,
     "metadata": {},
     "output_type": "execute_result"
    }
   ],
   "source": [
    "\n",
    "# Exericse 4. Skipping every other elements\n",
    "a = np.arange(1,26).reshape(5,5).astype(np.int8)\n",
    "print(a.itemsize)\n",
    "print(a.strides)\n",
    "np.lib.stride_tricks.as_strided(a, shape=(3,), strides=(2,))"
   ]
  },
  {
   "cell_type": "code",
   "execution_count": 11,
   "metadata": {},
   "outputs": [
    {
     "name": "stdout",
     "output_type": "stream",
     "text": [
      "8\n",
      "(40, 8)\n"
     ]
    },
    {
     "data": {
      "text/plain": [
       "array([ 1,  6, 11, 16])"
      ]
     },
     "execution_count": 11,
     "metadata": {},
     "output_type": "execute_result"
    }
   ],
   "source": [
    "\n",
    "# Exericse 5. Slicing the first column\n",
    "a = np.arange(1,26).reshape(5,5).astype(np.int64)\n",
    "print(a.itemsize)\n",
    "print(a.strides)\n",
    "np.lib.stride_tricks.as_strided(a, shape=(4,), strides=(40,))"
   ]
  },
  {
   "cell_type": "code",
   "execution_count": 12,
   "metadata": {},
   "outputs": [
    {
     "name": "stdout",
     "output_type": "stream",
     "text": [
      "8\n",
      "(40, 8)\n"
     ]
    },
    {
     "data": {
      "text/plain": [
       "array([ 1,  7, 13, 19, 25])"
      ]
     },
     "execution_count": 12,
     "metadata": {},
     "output_type": "execute_result"
    }
   ],
   "source": [
    "\n",
    "# Exericse 6. Slicing the diagonal\n",
    "a = np.arange(1,26).reshape(5,5).astype(np.int64)\n",
    "print(a.itemsize)\n",
    "print(a.strides)\n",
    "np.lib.stride_tricks.as_strided(a, shape=(5,), strides=(48,))"
   ]
  },
  {
   "cell_type": "code",
   "execution_count": 13,
   "metadata": {},
   "outputs": [
    {
     "name": "stdout",
     "output_type": "stream",
     "text": [
      "8\n",
      "(40, 8)\n"
     ]
    },
    {
     "data": {
      "text/plain": [
       "array([1, 1, 1, 1, 1])"
      ]
     },
     "execution_count": 13,
     "metadata": {},
     "output_type": "execute_result"
    }
   ],
   "source": [
    "# Exericse 7. Repeating the first element\n",
    "a = np.arange(1,26).reshape(5,5).astype(np.int64)\n",
    "print(a.itemsize)\n",
    "print(a.strides)\n",
    "np.lib.stride_tricks.as_strided(a, shape=(5,), strides=(0,))"
   ]
  },
  {
   "cell_type": "code",
   "execution_count": 16,
   "metadata": {},
   "outputs": [
    {
     "name": "stdout",
     "output_type": "stream",
     "text": [
      "8\n",
      "(40, 8)\n"
     ]
    },
    {
     "data": {
      "text/plain": [
       "array([[ 1,  2,  3,  4],\n",
       "       [ 6,  7,  8,  9],\n",
       "       [11, 12, 13, 14]])"
      ]
     },
     "execution_count": 16,
     "metadata": {},
     "output_type": "execute_result"
    }
   ],
   "source": [
    "# Exericse 8. Repeating the first element\n",
    "a = np.arange(1,26).reshape(5,5).astype(np.int64)\n",
    "print(a.itemsize)\n",
    "print(a.strides)\n",
    "np.lib.stride_tricks.as_strided(a, shape=(3,4), strides=(40,8))"
   ]
  },
  {
   "cell_type": "code",
   "execution_count": 18,
   "metadata": {},
   "outputs": [
    {
     "name": "stdout",
     "output_type": "stream",
     "text": [
      "8\n",
      "(40, 8)\n"
     ]
    },
    {
     "data": {
      "text/plain": [
       "array([[ 1,  2],\n",
       "       [ 7,  8],\n",
       "       [13, 14],\n",
       "       [19, 20]])"
      ]
     },
     "execution_count": 18,
     "metadata": {},
     "output_type": "execute_result"
    }
   ],
   "source": [
    "# Exericse 9. Slicing a zigzav\n",
    "a = np.arange(1,26).reshape(5,5).astype(np.int64)\n",
    "print(a.itemsize)\n",
    "print(a.strides)\n",
    "np.lib.stride_tricks.as_strided(a, shape=(4,2), strides=(48,8))"
   ]
  },
  {
   "cell_type": "code",
   "execution_count": 21,
   "metadata": {},
   "outputs": [
    {
     "name": "stdout",
     "output_type": "stream",
     "text": [
      "8\n",
      "(40, 8)\n"
     ]
    },
    {
     "data": {
      "text/plain": [
       "array([[ 1,  3,  5],\n",
       "       [11, 13, 15],\n",
       "       [21, 23, 25]])"
      ]
     },
     "execution_count": 21,
     "metadata": {},
     "output_type": "execute_result"
    }
   ],
   "source": [
    "# Exericse 10. Sparse slicing\n",
    "a = np.arange(1,26).reshape(5,5).astype(np.int64)\n",
    "print(a.itemsize)\n",
    "print(a.strides)\n",
    "np.lib.stride_tricks.as_strided(a, shape=(3,3), strides=(80,16))"
   ]
  },
  {
   "cell_type": "code",
   "execution_count": 23,
   "metadata": {},
   "outputs": [
    {
     "name": "stdout",
     "output_type": "stream",
     "text": [
      "1\n",
      "(5, 1)\n"
     ]
    },
    {
     "data": {
      "text/plain": [
       "array([[ 1,  6, 11],\n",
       "       [ 2,  7, 12],\n",
       "       [ 3,  8, 13]], dtype=int8)"
      ]
     },
     "execution_count": 23,
     "metadata": {},
     "output_type": "execute_result"
    }
   ],
   "source": [
    "# Exericse 11. Sparse slicing\n",
    "a = np.arange(1,26).reshape(5,5).astype(np.int8)\n",
    "print(a.itemsize)\n",
    "print(a.strides)\n",
    "np.lib.stride_tricks.as_strided(a, shape=(3,3), strides=(1,5))"
   ]
  },
  {
   "cell_type": "code",
   "execution_count": 25,
   "metadata": {},
   "outputs": [
    {
     "name": "stdout",
     "output_type": "stream",
     "text": [
      "4\n",
      "(20, 4)\n"
     ]
    },
    {
     "data": {
      "text/plain": [
       "array([[ 1,  1,  1,  1],\n",
       "       [ 6,  6,  6,  6],\n",
       "       [11, 11, 11, 11],\n",
       "       [16, 16, 16, 16],\n",
       "       [21, 21, 21, 21]], dtype=int32)"
      ]
     },
     "execution_count": 25,
     "metadata": {},
     "output_type": "execute_result"
    }
   ],
   "source": [
    "# Exericse 12. Repeat first column 4 times\n",
    "a = np.arange(1,26).reshape(5,5).astype(np.int32)\n",
    "print(a.itemsize)\n",
    "print(a.strides)\n",
    "np.lib.stride_tricks.as_strided(a, shape=(5,4), strides=(20,0))"
   ]
  },
  {
   "cell_type": "code",
   "execution_count": 26,
   "metadata": {},
   "outputs": [
    {
     "name": "stdout",
     "output_type": "stream",
     "text": [
      "8\n",
      "(8,)\n"
     ]
    },
    {
     "data": {
      "text/plain": [
       "array([[ 1,  2,  3],\n",
       "       [ 4,  5,  6],\n",
       "       [ 7,  8,  9],\n",
       "       [10, 11, 12]])"
      ]
     },
     "execution_count": 26,
     "metadata": {},
     "output_type": "execute_result"
    }
   ],
   "source": [
    "# Exercise 13. Reshape 1D to 2D\n",
    "a = np.arange(1,13).astype(np.int64)\n",
    "print(a.itemsize)\n",
    "print(a.strides)\n",
    "np.lib.stride_tricks.as_strided(a, shape=(4,3), strides=(24, 8))"
   ]
  },
  {
   "cell_type": "code",
   "execution_count": 28,
   "metadata": {},
   "outputs": [
    {
     "name": "stdout",
     "output_type": "stream",
     "text": [
      "1\n",
      "(1,)\n"
     ]
    },
    {
     "data": {
      "text/plain": [
       "array([[ 1,  2,  3],\n",
       "       [ 2,  3,  4],\n",
       "       [ 3,  4,  5],\n",
       "       [ 4,  5,  6],\n",
       "       [ 5,  6,  7],\n",
       "       [ 6,  7,  8],\n",
       "       [ 7,  8,  9],\n",
       "       [ 8,  9, 10]], dtype=int8)"
      ]
     },
     "execution_count": 28,
     "metadata": {},
     "output_type": "execute_result"
    }
   ],
   "source": [
    "# Exercise 14. Sliding a 1D window\n",
    "a = np.arange(1,11).astype(np.int8)\n",
    "print(a.itemsize)\n",
    "print(a.strides)\n",
    "np.lib.stride_tricks.as_strided(a, shape=(8,3), strides=(1, 1))"
   ]
  },
  {
   "cell_type": "code",
   "execution_count": 30,
   "metadata": {},
   "outputs": [
    {
     "name": "stdout",
     "output_type": "stream",
     "text": [
      "1\n",
      "(2, 1)\n"
     ]
    },
    {
     "data": {
      "text/plain": [
       "array([[ 0,  1, 10, 11, 20, 21],\n",
       "       [10, 11, 20, 21, 30, 31],\n",
       "       [20, 21, 30, 31, 40, 41],\n",
       "       [30, 31, 40, 41, 50, 51]], dtype=int8)"
      ]
     },
     "execution_count": 30,
     "metadata": {},
     "output_type": "execute_result"
    }
   ],
   "source": [
    "# Exercise 15. Sliding a 2D window then flatten\n",
    "a = np.array([[0,1],[10,11],[20,21],[30,31],[40,41],[50,51]]).astype(np.int8)\n",
    "print(a.itemsize)\n",
    "print(a.strides)\n",
    "np.lib.stride_tricks.as_strided(a, shape=(4,6), strides=(2, 1))"
   ]
  },
  {
   "cell_type": "code",
   "execution_count": 31,
   "metadata": {},
   "outputs": [
    {
     "name": "stdout",
     "output_type": "stream",
     "text": [
      "1\n",
      "(4, 2, 1)\n"
     ]
    },
    {
     "data": {
      "text/plain": [
       "array([[ 1,  2,  3,  4],\n",
       "       [ 5,  6,  7,  8],\n",
       "       [ 9, 10, 11, 12]], dtype=int8)"
      ]
     },
     "execution_count": 31,
     "metadata": {},
     "output_type": "execute_result"
    }
   ],
   "source": [
    "# Exercise 16. Collapse an axis from a 3D array\n",
    "a = np.arange(1,13).reshape(3,2,2).astype(np.int8)\n",
    "print(a.itemsize)\n",
    "print(a.strides)\n",
    "np.lib.stride_tricks.as_strided(a, shape=(3,4), strides=(4, 1))"
   ]
  },
  {
   "cell_type": "code",
   "execution_count": 33,
   "metadata": {},
   "outputs": [
    {
     "name": "stdout",
     "output_type": "stream",
     "text": [
      "2\n",
      "(10, 2)\n"
     ]
    },
    {
     "data": {
      "text/plain": [
       "array([[[ 1,  2],\n",
       "        [ 6,  7]],\n",
       "\n",
       "       [[16, 17],\n",
       "        [21, 22]]], dtype=int16)"
      ]
     },
     "execution_count": 33,
     "metadata": {},
     "output_type": "execute_result"
    }
   ],
   "source": [
    "# Exercise 17. 3D 2 corners\n",
    "a = np.arange(1,26).reshape(5,5).astype(np.int16)\n",
    "print(a.itemsize)\n",
    "print(a.strides)\n",
    "np.lib.stride_tricks.as_strided(a, (2,2,2), strides=(30, 10,2))"
   ]
  },
  {
   "cell_type": "code",
   "execution_count": 34,
   "metadata": {},
   "outputs": [
    {
     "name": "stdout",
     "output_type": "stream",
     "text": [
      "1\n",
      "(5, 1)\n"
     ]
    },
    {
     "data": {
      "text/plain": [
       "array([[[ 1,  2,  3],\n",
       "        [ 7,  8,  9]],\n",
       "\n",
       "       [[11, 12, 13],\n",
       "        [17, 18, 19]]], dtype=int8)"
      ]
     },
     "execution_count": 34,
     "metadata": {},
     "output_type": "execute_result"
    }
   ],
   "source": [
    "# Exercise 18. 3D Staggered slicing\n",
    "a = np.arange(1,26).reshape(5,5).astype(np.int8)\n",
    "print(a.itemsize)\n",
    "print(a.strides)\n",
    "np.lib.stride_tricks.as_strided(a, (2,2,3), strides=(10, 6,1))"
   ]
  },
  {
   "cell_type": "code",
   "execution_count": 36,
   "metadata": {},
   "outputs": [
    {
     "name": "stdout",
     "output_type": "stream",
     "text": [
      "2\n",
      "(10, 2)\n"
     ]
    },
    {
     "data": {
      "text/plain": [
       "array([[[1, 2, 3, 4],\n",
       "        [6, 7, 8, 9]],\n",
       "\n",
       "       [[1, 2, 3, 4],\n",
       "        [6, 7, 8, 9]],\n",
       "\n",
       "       [[1, 2, 3, 4],\n",
       "        [6, 7, 8, 9]]], dtype=int16)"
      ]
     },
     "execution_count": 36,
     "metadata": {},
     "output_type": "execute_result"
    }
   ],
   "source": [
    "# Exercise 19. Repeat 2D array\n",
    "a = np.arange(1,26).reshape(5,5).astype(np.int16)\n",
    "print(a.itemsize)\n",
    "print(a.strides)\n",
    "np.lib.stride_tricks.as_strided(a, (3,2,4), strides=(0, 10,2))"
   ]
  },
  {
   "cell_type": "code",
   "execution_count": 37,
   "metadata": {},
   "outputs": [
    {
     "name": "stdout",
     "output_type": "stream",
     "text": [
      "4\n",
      "(16, 8, 4)\n"
     ]
    },
    {
     "data": {
      "text/plain": [
       "array([[[ 1,  3],\n",
       "        [ 2,  4]],\n",
       "\n",
       "       [[ 5,  7],\n",
       "        [ 6,  8]],\n",
       "\n",
       "       [[ 9, 11],\n",
       "        [10, 12]]], dtype=int32)"
      ]
     },
     "execution_count": 37,
     "metadata": {},
     "output_type": "execute_result"
    }
   ],
   "source": [
    "# Exercise 20. 3D transpose\n",
    "a = np.arange(1,13).reshape(3,2,2).astype(np.int32)\n",
    "print(a.itemsize)\n",
    "print(a.strides)\n",
    "np.lib.stride_tricks.as_strided(a, (3,2,2), strides=(16, 4, 8))"
   ]
  },
  {
   "cell_type": "code",
   "execution_count": 38,
   "metadata": {},
   "outputs": [
    {
     "name": "stdout",
     "output_type": "stream",
     "text": [
      "8\n",
      "(40, 8)\n"
     ]
    },
    {
     "data": {
      "text/plain": [
       "array([[[ 1,  2,  3,  4,  5],\n",
       "        [ 6,  7,  8,  9, 10]],\n",
       "\n",
       "       [[ 6,  7,  8,  9, 10],\n",
       "        [11, 12, 13, 14, 15]],\n",
       "\n",
       "       [[11, 12, 13, 14, 15],\n",
       "        [16, 17, 18, 19, 20]]])"
      ]
     },
     "execution_count": 38,
     "metadata": {},
     "output_type": "execute_result"
    }
   ],
   "source": [
    "# Exercise 20. 3D transpose\n",
    "a = np.arange(1,21).reshape(4,5).astype(np.int64)\n",
    "print(a.itemsize)\n",
    "print(a.strides)\n",
    "np.lib.stride_tricks.as_strided(a, (3,2,5), strides=(40, 40, 8))"
   ]
  },
  {
   "cell_type": "code",
   "execution_count": 40,
   "metadata": {},
   "outputs": [
    {
     "name": "stdout",
     "output_type": "stream",
     "text": [
      "1\n",
      "(1,)\n"
     ]
    },
    {
     "data": {
      "text/plain": [
       "array([[[ 1,  2,  3],\n",
       "        [ 4,  5,  6]],\n",
       "\n",
       "       [[ 7,  8,  9],\n",
       "        [10, 11, 12]]], dtype=int8)"
      ]
     },
     "execution_count": 40,
     "metadata": {},
     "output_type": "execute_result"
    }
   ],
   "source": [
    "# Exercise 21. Reshape 1D to 3D\n",
    "a = np.arange(1,13).astype(np.int8)\n",
    "print(a.itemsize)\n",
    "print(a.strides)\n",
    "np.lib.stride_tricks.as_strided(a, (2,2,3), strides=(6, 3, 1))"
   ]
  },
  {
   "cell_type": "code",
   "execution_count": 46,
   "metadata": {},
   "outputs": [
    {
     "name": "stdout",
     "output_type": "stream",
     "text": [
      "1\n",
      "(5, 1)\n"
     ]
    },
    {
     "data": {
      "text/plain": [
       "array([[[[ 1,  2,  3],\n",
       "         [ 6,  7,  8],\n",
       "         [11, 12, 13]],\n",
       "\n",
       "        [[ 3,  4,  5],\n",
       "         [ 8,  9, 10],\n",
       "         [13, 14, 15]]],\n",
       "\n",
       "\n",
       "       [[[11, 12, 13],\n",
       "         [16, 17, 18],\n",
       "         [21, 22, 23]],\n",
       "\n",
       "        [[13, 14, 15],\n",
       "         [18, 19, 20],\n",
       "         [23, 24, 25]]]], dtype=int8)"
      ]
     },
     "execution_count": 46,
     "metadata": {},
     "output_type": "execute_result"
    }
   ],
   "source": [
    "# Exercise 23\n",
    "a = np.arange(1,26).reshape(5,5).astype(np.int8)\n",
    "print(a.itemsize)\n",
    "print(a.strides)\n",
    "np.lib.stride_tricks.as_strided(a, (2,2,3,3), strides=(10,2,5,1))"
   ]
  },
  {
   "cell_type": "code",
   "execution_count": 47,
   "metadata": {},
   "outputs": [
    {
     "name": "stdout",
     "output_type": "stream",
     "text": [
      "8\n",
      "(48, 24, 8)\n"
     ]
    },
    {
     "data": {
      "text/plain": [
       "array([[[[ 1,  2,  3],\n",
       "         [ 4,  5,  6]],\n",
       "\n",
       "        [[ 1,  2,  3],\n",
       "         [ 4,  5,  6]]],\n",
       "\n",
       "\n",
       "       [[[ 7,  8,  9],\n",
       "         [10, 11, 12]],\n",
       "\n",
       "        [[ 7,  8,  9],\n",
       "         [10, 11, 12]]]])"
      ]
     },
     "execution_count": 47,
     "metadata": {},
     "output_type": "execute_result"
    }
   ],
   "source": [
    "# Exercise 24\n",
    "a = np.arange(1,13).reshape(2,2,3).astype(np.int64)\n",
    "print(a.itemsize)\n",
    "print(a.strides)\n",
    "np.lib.stride_tricks.as_strided(a, (2,2,2,3), strides=(48,0,24,8))"
   ]
  },
  {
   "cell_type": "code",
   "execution_count": 48,
   "metadata": {},
   "outputs": [
    {
     "name": "stdout",
     "output_type": "stream",
     "text": [
      "8\n",
      "(8,)\n"
     ]
    },
    {
     "data": {
      "text/plain": [
       "array([[[[ 1,  2],\n",
       "         [ 3,  4]],\n",
       "\n",
       "        [[ 5,  6],\n",
       "         [ 7,  8]]],\n",
       "\n",
       "\n",
       "       [[[ 9, 10],\n",
       "         [11, 12]],\n",
       "\n",
       "        [[13, 14],\n",
       "         [15, 16]]]])"
      ]
     },
     "execution_count": 48,
     "metadata": {},
     "output_type": "execute_result"
    }
   ],
   "source": [
    "# Exercise 25\n",
    "a = np.arange(1,17).astype(np.int64)\n",
    "print(a.itemsize)\n",
    "print(a.strides)\n",
    "np.lib.stride_tricks.as_strided(a, (2,2,2,2), strides=(64,32,16,8))"
   ]
  },
  {
   "cell_type": "code",
   "execution_count": null,
   "metadata": {},
   "outputs": [],
   "source": []
  }
 ],
 "metadata": {
  "kernelspec": {
   "display_name": "vision",
   "language": "python",
   "name": "python3"
  },
  "language_info": {
   "codemirror_mode": {
    "name": "ipython",
    "version": 3
   },
   "file_extension": ".py",
   "mimetype": "text/x-python",
   "name": "python",
   "nbconvert_exporter": "python",
   "pygments_lexer": "ipython3",
   "version": "3.10.0"
  },
  "orig_nbformat": 4
 },
 "nbformat": 4,
 "nbformat_minor": 2
}
